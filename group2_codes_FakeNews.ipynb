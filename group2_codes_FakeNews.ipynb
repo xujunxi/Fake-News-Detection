{
  "nbformat": 4,
  "nbformat_minor": 0,
  "metadata": {
    "colab": {
      "name": "group2_codes_FakeNews.ipynb",
      "provenance": [],
      "collapsed_sections": [
        "RDgFfUk2O2jZ",
        "WP055--eO2jb",
        "EsR1xX7fO2k_",
        "C6kQqudjO2mt",
        "IKNxnUwjR5ec",
        "uFo998hVR5ej",
        "xJFsM-7QR5et",
        "k1fhkrvVO2qR",
        "zJU3J0I6O2qv",
        "Dj0ggLDrV3dZ",
        "hnDxC5JyO2rD",
        "fd1ws7n_O2rV",
        "IB9XmmysO2ri",
        "Z62HoxfMXPyq",
        "cCsTNqldZjSM",
        "Iigd8nHguRcK",
        "-mZeLt9tufXX",
        "HTx9bSB0vHa0",
        "TZQGaaz_vpKf",
        "OR5kQvUbxDTV",
        "Xqgj6mewO2rn"
      ]
    },
    "kernelspec": {
      "display_name": "Python 3",
      "language": "python",
      "name": "python3"
    },
    "language_info": {
      "codemirror_mode": {
        "name": "ipython",
        "version": 3
      },
      "file_extension": ".py",
      "mimetype": "text/x-python",
      "name": "python",
      "nbconvert_exporter": "python",
      "pygments_lexer": "ipython3",
      "version": "3.7.4"
    },
    "varInspector": {
      "cols": {
        "lenName": 16,
        "lenType": 16,
        "lenVar": 40
      },
      "kernels_config": {
        "python": {
          "delete_cmd_postfix": "",
          "delete_cmd_prefix": "del ",
          "library": "var_list.py",
          "varRefreshCmd": "print(var_dic_list())"
        },
        "r": {
          "delete_cmd_postfix": ") ",
          "delete_cmd_prefix": "rm(",
          "library": "var_list.r",
          "varRefreshCmd": "cat(var_dic_list()) "
        }
      },
      "types_to_exclude": [
        "module",
        "function",
        "builtin_function_or_method",
        "instance",
        "_Feature"
      ],
      "window_display": false
    }
  },
  "cells": [
    {
      "cell_type": "markdown",
      "metadata": {
        "id": "4CJRP0w_O2jG"
      },
      "source": [
        "# Course Project: Fake News Detection\n",
        "## Deep Neural Network Realization\n",
        "#### Group 2, Tinglin Duan, Tianyi Xie, Junxi Xu, Zhennan Ying, Qianyue Zhang"
      ]
    },
    {
      "cell_type": "markdown",
      "metadata": {
        "id": "BC16pvLrh3Nf"
      },
      "source": [
        "### 1. Introduction\n"
      ]
    },
    {
      "cell_type": "markdown",
      "metadata": {
        "id": "i5qechv_O2jK"
      },
      "source": [
        "#### 1.1 Project Introduction\n",
        "This project is based on the Phase 1 of the $1 million Leaders Prize 2019: Fact or Fake News Challenge. This Challenge aims to stop misinformation and fake news spreading with Machine Learning based fact-checking. In Phase 1, each team is expected to design fact-checking algorithms to label claims as True, Partly True or False.\n",
        "\n",
        "Input: metadata file with claim information, training data is given with truth labels\n",
        "\n",
        "Output: predicted truth labels without any human intervention\n",
        "\n",
        "Note: in order to reproduce the result, one should have all the data files from the Datacup official website and download the stop_words.txt and embedding file from https://drive.google.com/drive/folders/1KbThhafJK5Aoa3zlvF-BbN2_QSDbRYXD?usp=sharing"
      ]
    },
    {
      "cell_type": "markdown",
      "metadata": {
        "id": "0G865SwaO2jM"
      },
      "source": [
        "#### 1.2 Import libraries"
      ]
    },
    {
      "cell_type": "code",
      "metadata": {
        "colab": {
          "base_uri": "https://localhost:8080/",
          "height": 84
        },
        "id": "E8UKq5HxO2jN",
        "outputId": "d379f51e-6201-4172-ece8-9278103cc286"
      },
      "source": [
        "import pickle\n",
        "import json\n",
        "import os\n",
        "from os import listdir\n",
        "from os.path import isfile, join, exists, split\n",
        "import collections\n",
        "import time\n",
        "import re\n",
        "import itertools\n",
        "import random\n",
        "import csv\n",
        "from string import punctuation\n",
        "import subprocess as sp\n",
        "from statistics import mode\n",
        "from collections import Counter\n",
        "\n",
        "import numpy as np\n",
        "import pandas as pd\n",
        "pd.options.mode.chained_assignment = None\n",
        "\n",
        "import nltk\n",
        "from nltk.stem import WordNetLemmatizer\n",
        "from nltk.corpus import stopwords\n",
        "nltk.download('punkt')\n",
        "nltk.download('stopwords')\n",
        "\n",
        "from keras.preprocessing.text import Tokenizer\n",
        "from keras.preprocessing.sequence import pad_sequences\n",
        "from keras.layers.core import *\n",
        "from keras.layers import Multiply, Average, TimeDistributed\n",
        "from keras.layers import LSTM, Bidirectional\n",
        "from keras.layers import Dense, Activation, Flatten, Input\n",
        "from keras.layers import Dropout, MaxPooling1D, Convolution1D\n",
        "from keras.layers.embeddings import Embedding\n",
        "from keras.layers.merge import Concatenate\n",
        "from keras.models import Sequential, Model, model_from_json\n",
        "\n",
        "from sklearn import metrics\n",
        "from sklearn.metrics import f1_score, accuracy_score\n",
        "from sklearn.model_selection import train_test_split\n",
        "from sklearn.naive_bayes import MultinomialNB\n",
        "\n",
        "import seaborn as sns\n",
        "import matplotlib.pyplot as plt\n",
        "\n",
        "from tensorflow.python.client import device_lib\n",
        "\n",
        "from gensim.models import word2vec\n",
        "# print(device_lib.list_local_devices())\n",
        "np.random.seed(10)"
      ],
      "execution_count": null,
      "outputs": [
        {
          "name": "stdout",
          "output_type": "stream",
          "text": [
            "[nltk_data] Downloading package punkt to /root/nltk_data...\n",
            "[nltk_data]   Package punkt is already up-to-date!\n",
            "[nltk_data] Downloading package stopwords to /root/nltk_data...\n",
            "[nltk_data]   Package stopwords is already up-to-date!\n"
          ]
        }
      ]
    },
    {
      "cell_type": "code",
      "metadata": {
        "colab": {
          "base_uri": "https://localhost:8080/",
          "height": 34
        },
        "id": "04JJ0nbUR5b8",
        "outputId": "a0058f12-e31e-4067-c967-a9dab1db2ab6"
      },
      "source": [
        "dir_path = os.path.dirname(os.path.realpath('__file__')) + '/'\n",
        "print(dir_path)\n",
        "Bookkeeping_path = dir_path + \"bookkeeping/\"\n",
        "if not os.path.exists(Bookkeeping_path):\n",
        "    os.makedirs(Bookkeeping_path)\n",
        "Model_path = dir_path + \"models/\"\n",
        "if not os.path.exists(Model_path):\n",
        "    os.makedirs(Model_path)"
      ],
      "execution_count": null,
      "outputs": [
        {
          "name": "stdout",
          "output_type": "stream",
          "text": [
            "/content/\n"
          ]
        }
      ]
    },
    {
      "cell_type": "markdown",
      "metadata": {
        "id": "lf0b3OKgO2jU"
      },
      "source": [
        "#### 1.3 Global Static Variable Definition"
      ]
    },
    {
      "cell_type": "code",
      "metadata": {
        "id": "WWSueaaMO2jV"
      },
      "source": [
        "############################################### RNN PART ################################################\n",
        "stop_words_file = dir_path + 'stop_words.txt'\n",
        "article_folder = dir_path + 'train_articles'\n",
        "json_folder = dir_path + 'train.json'\n",
        "glove_data_file = dir_path + 'glove.6B.100d.txt'\n",
        "\n",
        "save_model_json_1 = Model_path + 'jupyter_trained_1.json'\n",
        "save_model_weights_1 = Model_path + 'jupyter_trained_1.h5'\n",
        "\n",
        "save_model_json_2 = Model_path + 'jupyter_trained_2.json'\n",
        "save_model_weights_2 = Model_path + 'jupyter_trained_2.h5'\n",
        "\n",
        "save_model_json_3 = Model_path + 'jupyter_trained_3.json'\n",
        "save_model_weights_3 = Model_path + 'jupyter_trained_3.h5'\n",
        "\n",
        "save_model_json_4 = Model_path + 'jupyter_trained_4.json'\n",
        "save_model_weights_4 = Model_path + 'jupyter_trained_4.h5'\n",
        "\n",
        "MAX_LEN_ART = 1500\n",
        "MAX_LEN_CLAIM = 100\n",
        "EMBEDDING_SIZE = 100\n",
        "unit_size = 256\n",
        "\n",
        "############################################### CNN PART ################################################\n",
        "# Model Hyperparameters\n",
        "embedding_dim = 50\n",
        "filter_sizes = (3, 8)\n",
        "num_filters = 10\n",
        "dropout_prob = (0.5, 0.2)\n",
        "hidden_dims = 50\n",
        "output_dims = 3\n",
        "\n",
        "# Training parameters\n",
        "batch_size = 64\n",
        "num_epochs = 5 # early stopping\n",
        "\n",
        "# Word2Vec parameters (see train_word2vec)\n",
        "min_word_count = 1\n",
        "context = 10\n",
        "\n",
        "############################################### NB PART ################################################\n",
        "save_NBmodel = Model_path + 'NBmodel.sav'"
      ],
      "execution_count": null,
      "outputs": []
    },
    {
      "cell_type": "markdown",
      "metadata": {
        "id": "RDgFfUk2O2jZ"
      },
      "source": [
        "### 2 Training Data Evaluation"
      ]
    },
    {
      "cell_type": "markdown",
      "metadata": {
        "id": "WP055--eO2jb"
      },
      "source": [
        "#### 2.1 Data import"
      ]
    },
    {
      "cell_type": "code",
      "metadata": {
        "id": "SDokKZjPO2jc"
      },
      "source": [
        "def word_split(paragraph):\n",
        "    return [splited.lower() for splited in nltk.word_tokenize(paragraph)]"
      ],
      "execution_count": null,
      "outputs": []
    },
    {
      "cell_type": "code",
      "metadata": {
        "id": "DGnVPC67O2jf"
      },
      "source": [
        "def bar_plot(x, y, x_label, y_label, title):\n",
        "    y_pos = np.arange(len(x))\n",
        "    performance = y\n",
        "\n",
        "    plt.figure(figsize=(12,12))\n",
        "    plt.barh(y_pos, y, align='center', alpha=0.5)\n",
        "    plt.yticks(y_pos, x)\n",
        "    plt.ylabel(x_label)\n",
        "    plt.xlabel(y_label)\n",
        "    plt.title(title)\n",
        "\n",
        "    plt.show()"
      ],
      "execution_count": null,
      "outputs": []
    },
    {
      "cell_type": "code",
      "metadata": {
        "id": "2SQOqhu3O2jj"
      },
      "source": [
        "with open(json_folder) as json_file:\n",
        "    df = (pd.DataFrame(json.load(json_file))).reset_index()\n",
        "    train, test = train_test_split(df, test_size=0.2)\n",
        "    train['claim_splitted'] = train.claim.apply(word_split)\n",
        "    test['claim_splitted'] = test.claim.apply(word_split)"
      ],
      "execution_count": null,
      "outputs": []
    },
    {
      "cell_type": "markdown",
      "metadata": {
        "id": "0GdaiE5wO2jm"
      },
      "source": [
        "The imported json file is divided into train and test sets. The test set in this case is just a validation set to see model jit level. The train/test proportion is set to be 0.8/0.2"
      ]
    },
    {
      "cell_type": "code",
      "metadata": {
        "id": "U0W8Xr4iO2jo",
        "outputId": "d4d8269c-3cfe-4e24-bb9f-964efcc21700"
      },
      "source": [
        "train.head()"
      ],
      "execution_count": null,
      "outputs": [
        {
          "data": {
            "text/html": [
              "<div>\n",
              "<style scoped>\n",
              "    .dataframe tbody tr th:only-of-type {\n",
              "        vertical-align: middle;\n",
              "    }\n",
              "\n",
              "    .dataframe tbody tr th {\n",
              "        vertical-align: top;\n",
              "    }\n",
              "\n",
              "    .dataframe thead th {\n",
              "        text-align: right;\n",
              "    }\n",
              "</style>\n",
              "<table border=\"1\" class=\"dataframe\">\n",
              "  <thead>\n",
              "    <tr style=\"text-align: right;\">\n",
              "      <th></th>\n",
              "      <th>index</th>\n",
              "      <th>claim</th>\n",
              "      <th>claimant</th>\n",
              "      <th>date</th>\n",
              "      <th>label</th>\n",
              "      <th>related_articles</th>\n",
              "      <th>id</th>\n",
              "      <th>claim_splitted</th>\n",
              "    </tr>\n",
              "  </thead>\n",
              "  <tbody>\n",
              "    <tr>\n",
              "      <th>3729</th>\n",
              "      <td>3729</td>\n",
              "      <td>Says U.S. Sen. Ron Johnson \"doesn't even belie...</td>\n",
              "      <td>Russ  Feingold</td>\n",
              "      <td>2016-10-06</td>\n",
              "      <td>1</td>\n",
              "      <td>[1088, 26723]</td>\n",
              "      <td>4107</td>\n",
              "      <td>[says, u.s., sen., ron, johnson, ``, does, n't...</td>\n",
              "    </tr>\n",
              "    <tr>\n",
              "      <th>12790</th>\n",
              "      <td>12790</td>\n",
              "      <td>“By denying climate change, [Stephen Harper] d...</td>\n",
              "      <td>Justin Trudeau</td>\n",
              "      <td>2015-07-09</td>\n",
              "      <td>0</td>\n",
              "      <td>[97541, 97901, 98022, 100860]</td>\n",
              "      <td>14091</td>\n",
              "      <td>[“, by, denying, climate, change, ,, [, stephe...</td>\n",
              "    </tr>\n",
              "    <tr>\n",
              "      <th>3822</th>\n",
              "      <td>3822</td>\n",
              "      <td>Says President Donald Trump \"has signed more l...</td>\n",
              "      <td>Mike Pence</td>\n",
              "      <td>2017-07-18</td>\n",
              "      <td>1</td>\n",
              "      <td>[6007, 28240, 28245, 88386, 47172]</td>\n",
              "      <td>4210</td>\n",
              "      <td>[says, president, donald, trump, ``, has, sign...</td>\n",
              "    </tr>\n",
              "    <tr>\n",
              "      <th>10346</th>\n",
              "      <td>10346</td>\n",
              "      <td>\"Obama's Private 'Security' Company Sets Up M...</td>\n",
              "      <td>Various websites</td>\n",
              "      <td>2018-04-30</td>\n",
              "      <td>0</td>\n",
              "      <td>[26939, 37849]</td>\n",
              "      <td>11405</td>\n",
              "      <td>[``, obama, 's, private, 'security, ', company...</td>\n",
              "    </tr>\n",
              "    <tr>\n",
              "      <th>4858</th>\n",
              "      <td>4858</td>\n",
              "      <td>“I was against the war in Iraq. Has not been d...</td>\n",
              "      <td>Donald Trump</td>\n",
              "      <td>2016-10-09</td>\n",
              "      <td>0</td>\n",
              "      <td>[58855, 57620, 58877, 58858, 76663, 58736, 588...</td>\n",
              "      <td>5347</td>\n",
              "      <td>[“, i, was, against, the, war, in, iraq, ., ha...</td>\n",
              "    </tr>\n",
              "  </tbody>\n",
              "</table>\n",
              "</div>"
            ],
            "text/plain": [
              "       index                                              claim  \\\n",
              "3729    3729  Says U.S. Sen. Ron Johnson \"doesn't even belie...   \n",
              "12790  12790  “By denying climate change, [Stephen Harper] d...   \n",
              "3822    3822  Says President Donald Trump \"has signed more l...   \n",
              "10346  10346   \"Obama's Private 'Security' Company Sets Up M...   \n",
              "4858    4858  “I was against the war in Iraq. Has not been d...   \n",
              "\n",
              "               claimant        date  label  \\\n",
              "3729     Russ  Feingold  2016-10-06      1   \n",
              "12790    Justin Trudeau  2015-07-09      0   \n",
              "3822         Mike Pence  2017-07-18      1   \n",
              "10346  Various websites  2018-04-30      0   \n",
              "4858       Donald Trump  2016-10-09      0   \n",
              "\n",
              "                                        related_articles     id  \\\n",
              "3729                                       [1088, 26723]   4107   \n",
              "12790                      [97541, 97901, 98022, 100860]  14091   \n",
              "3822                  [6007, 28240, 28245, 88386, 47172]   4210   \n",
              "10346                                     [26939, 37849]  11405   \n",
              "4858   [58855, 57620, 58877, 58858, 76663, 58736, 588...   5347   \n",
              "\n",
              "                                          claim_splitted  \n",
              "3729   [says, u.s., sen., ron, johnson, ``, does, n't...  \n",
              "12790  [“, by, denying, climate, change, ,, [, stephe...  \n",
              "3822   [says, president, donald, trump, ``, has, sign...  \n",
              "10346  [``, obama, 's, private, 'security, ', company...  \n",
              "4858   [“, i, was, against, the, war, in, iraq, ., ha...  "
            ]
          },
          "execution_count": 7,
          "metadata": {
            "tags": []
          },
          "output_type": "execute_result"
        }
      ]
    },
    {
      "cell_type": "code",
      "metadata": {
        "id": "4B3FGwwHO2ju",
        "outputId": "56fb6010-137e-42b4-a8ab-df636e85aef9"
      },
      "source": [
        "test.head()"
      ],
      "execution_count": null,
      "outputs": [
        {
          "data": {
            "text/html": [
              "<div>\n",
              "<style scoped>\n",
              "    .dataframe tbody tr th:only-of-type {\n",
              "        vertical-align: middle;\n",
              "    }\n",
              "\n",
              "    .dataframe tbody tr th {\n",
              "        vertical-align: top;\n",
              "    }\n",
              "\n",
              "    .dataframe thead th {\n",
              "        text-align: right;\n",
              "    }\n",
              "</style>\n",
              "<table border=\"1\" class=\"dataframe\">\n",
              "  <thead>\n",
              "    <tr style=\"text-align: right;\">\n",
              "      <th></th>\n",
              "      <th>index</th>\n",
              "      <th>claim</th>\n",
              "      <th>claimant</th>\n",
              "      <th>date</th>\n",
              "      <th>label</th>\n",
              "      <th>related_articles</th>\n",
              "      <th>id</th>\n",
              "      <th>claim_splitted</th>\n",
              "    </tr>\n",
              "  </thead>\n",
              "  <tbody>\n",
              "    <tr>\n",
              "      <th>11713</th>\n",
              "      <td>11713</td>\n",
              "      <td>\"Collusion is not a crime.\"</td>\n",
              "      <td>Donald Trump</td>\n",
              "      <td>2018-07-31</td>\n",
              "      <td>1</td>\n",
              "      <td>[42998, 18667, 43017, 33290, 48700, 50317, 50335]</td>\n",
              "      <td>12899</td>\n",
              "      <td>[``, collusion, is, not, a, crime, ., '']</td>\n",
              "    </tr>\n",
              "    <tr>\n",
              "      <th>3407</th>\n",
              "      <td>3407</td>\n",
              "      <td>\"It took us four years to balance the budget. ...</td>\n",
              "      <td>Bill Clinton</td>\n",
              "      <td>2012-06-02</td>\n",
              "      <td>1</td>\n",
              "      <td>[73809, 93667, 3636]</td>\n",
              "      <td>3745</td>\n",
              "      <td>[``, it, took, us, four, years, to, balance, t...</td>\n",
              "    </tr>\n",
              "    <tr>\n",
              "      <th>10621</th>\n",
              "      <td>10621</td>\n",
              "      <td>\"Obama keeps talking about getting rid of all ...</td>\n",
              "      <td>Dick Cheney</td>\n",
              "      <td>2015-07-14</td>\n",
              "      <td>1</td>\n",
              "      <td>[88354, 5530, 62990, 2507, 90824]</td>\n",
              "      <td>11705</td>\n",
              "      <td>[``, obama, keeps, talking, about, getting, ri...</td>\n",
              "    </tr>\n",
              "    <tr>\n",
              "      <th>5506</th>\n",
              "      <td>5506</td>\n",
              "      <td>President Trump praised KFC founder Colonel Sa...</td>\n",
              "      <td></td>\n",
              "      <td>2017-05-22</td>\n",
              "      <td>0</td>\n",
              "      <td>[125263, 125503, 23295]</td>\n",
              "      <td>6064</td>\n",
              "      <td>[president, trump, praised, kfc, founder, colo...</td>\n",
              "    </tr>\n",
              "    <tr>\n",
              "      <th>4567</th>\n",
              "      <td>4567</td>\n",
              "      <td>In 2008, \"only 54 percent of Latinos in Texas ...</td>\n",
              "      <td>Battleground Texas</td>\n",
              "      <td>2013-02-26</td>\n",
              "      <td>1</td>\n",
              "      <td>[15506, 16343, 15367]</td>\n",
              "      <td>5024</td>\n",
              "      <td>[in, 2008, ,, ``, only, 54, percent, of, latin...</td>\n",
              "    </tr>\n",
              "  </tbody>\n",
              "</table>\n",
              "</div>"
            ],
            "text/plain": [
              "       index                                              claim  \\\n",
              "11713  11713                        \"Collusion is not a crime.\"   \n",
              "3407    3407  \"It took us four years to balance the budget. ...   \n",
              "10621  10621  \"Obama keeps talking about getting rid of all ...   \n",
              "5506    5506  President Trump praised KFC founder Colonel Sa...   \n",
              "4567    4567  In 2008, \"only 54 percent of Latinos in Texas ...   \n",
              "\n",
              "                 claimant        date  label  \\\n",
              "11713        Donald Trump  2018-07-31      1   \n",
              "3407         Bill Clinton  2012-06-02      1   \n",
              "10621         Dick Cheney  2015-07-14      1   \n",
              "5506                       2017-05-22      0   \n",
              "4567   Battleground Texas  2013-02-26      1   \n",
              "\n",
              "                                        related_articles     id  \\\n",
              "11713  [42998, 18667, 43017, 33290, 48700, 50317, 50335]  12899   \n",
              "3407                                [73809, 93667, 3636]   3745   \n",
              "10621                  [88354, 5530, 62990, 2507, 90824]  11705   \n",
              "5506                             [125263, 125503, 23295]   6064   \n",
              "4567                               [15506, 16343, 15367]   5024   \n",
              "\n",
              "                                          claim_splitted  \n",
              "11713          [``, collusion, is, not, a, crime, ., '']  \n",
              "3407   [``, it, took, us, four, years, to, balance, t...  \n",
              "10621  [``, obama, keeps, talking, about, getting, ri...  \n",
              "5506   [president, trump, praised, kfc, founder, colo...  \n",
              "4567   [in, 2008, ,, ``, only, 54, percent, of, latin...  "
            ]
          },
          "execution_count": 8,
          "metadata": {
            "tags": []
          },
          "output_type": "execute_result"
        }
      ]
    },
    {
      "cell_type": "markdown",
      "metadata": {
        "id": "IHfktz7LO2jy"
      },
      "source": [
        "Here is the json dictionary training data format:\n",
        "\n",
        "Main attributes: claim; claimant; date; label (0: false, 1: partly true, 2: true); related articles; id\n",
        "\n",
        "Example: {'claim': \"A line from George Orwell's novel 1984 predicts the power of smartphones.\", 'claimant': '', 'date': '2017-07-17', 'label': 0, 'related_articles': [122094, 122580, 130685, 134765], 'id': 0}\n",
        "\n",
        "In this project, it is desired to use the supported data to classify the label."
      ]
    },
    {
      "cell_type": "code",
      "metadata": {
        "id": "mxs-hbRPO2jz",
        "outputId": "933cae59-4c1f-4d71-b972-49b4076740a2"
      },
      "source": [
        "claim_counter = {}\n",
        "\n",
        "for claim in df['claim']:\n",
        "    if len(claim) not in claim_counter:\n",
        "        claim_counter[len(claim)] = 1\n",
        "    else:\n",
        "        claim_counter[len(claim)] += 1\n",
        "\n",
        "print(Counter(claim_counter).most_common(10))"
      ],
      "execution_count": null,
      "outputs": [
        {
          "name": "stdout",
          "output_type": "stream",
          "text": [
            "[(86, 185), (88, 185), (76, 175), (87, 169), (92, 161), (78, 158), (85, 157), (73, 155), (77, 154), (101, 153)]\n"
          ]
        }
      ]
    },
    {
      "cell_type": "code",
      "metadata": {
        "id": "6-I-amLWO2j3",
        "outputId": "a0faf6ae-e819-4307-9ec3-4764ed4a3e7f"
      },
      "source": [
        "related_counter = {}\n",
        "\n",
        "for articles in df['related_articles']:\n",
        "    if len(articles) not in related_counter:\n",
        "        related_counter[len(articles)] = 1\n",
        "    else:\n",
        "        related_counter[len(articles)] += 1\n",
        "\n",
        "bar_plot(list(related_counter.keys()), list(related_counter.values()), 'related articles count', 'Appearances', 'related_articles counts')"
      ],
      "execution_count": null,
      "outputs": [
        {
          "data": {
            "image/png": "[encoded data removed]",
            "text/plain": [
              "<Figure size 864x864 with 1 Axes>"
            ]
          },
          "metadata": {
            "needs_background": "light",
            "tags": []
          },
          "output_type": "display_data"
        }
      ]
    },
    {
      "cell_type": "markdown",
      "metadata": {
        "id": "EsR1xX7fO2k_"
      },
      "source": [
        "#### 2.2 Data NAN filling"
      ]
    },
    {
      "cell_type": "code",
      "metadata": {
        "id": "y4LvURkgO2lB"
      },
      "source": [
        "def heat_plot(df):\n",
        "    fig, ax = plt.subplots(figsize=(15, 10))\n",
        "    sns.heatmap(df, cmap='coolwarm', yticklabels=False, cbar=False, ax=ax)"
      ],
      "execution_count": null,
      "outputs": []
    },
    {
      "cell_type": "code",
      "metadata": {
        "id": "kOhoNk7hO2lE",
        "outputId": "8b3f6399-2245-4ed0-d168-750ab3400a9c"
      },
      "source": [
        "heat_plot(df.isnull())"
      ],
      "execution_count": null,
      "outputs": [
        {
          "data": {
            "image/png": "[encoded data removed]",
            "text/plain": [
              "<Figure size 1080x720 with 1 Axes>"
            ]
          },
          "metadata": {
            "needs_background": "light",
            "tags": []
          },
          "output_type": "display_data"
        }
      ]
    },
    {
      "cell_type": "markdown",
      "metadata": {
        "id": "ZGwe4MuPO2lQ"
      },
      "source": [
        "This is a very appropriately filled dataset where no NAN entry has been found"
      ]
    },
    {
      "cell_type": "markdown",
      "metadata": {
        "id": "prce1Vy7O2lR"
      },
      "source": [
        "#### 2.3 Project Strategy"
      ]
    },
    {
      "cell_type": "markdown",
      "metadata": {
        "id": "PeWZypuoO2lS"
      },
      "source": [
        "In this part of the project, deep neural networks such as RNN, LSTM, CNN and Transformer are desired to be implemented. We are interested in the word sequence importance and text information rather than individual text features. Hence we will implement the model based on the columns \"claim\" and \"related_articles\" where we could evaluation text information."
      ]
    },
    {
      "cell_type": "markdown",
      "metadata": {
        "id": "nSUE4SJYO2lT"
      },
      "source": [
        "##### 2.3.1 LSTM"
      ]
    },
    {
      "cell_type": "markdown",
      "metadata": {
        "id": "kXt7FT9wO2lU"
      },
      "source": [
        "Long Short Term Memory networks (LSTMs) are a special kinds of Recurrent Neural Networks (RNN), and was proposed by Hochreiter and Schmidhube as early as 1997. Compared with ordinary neural networks, the network is capable of remembering long term memories, which has proven to be essentially useful in speech recognition and sentimental analysis tasks. Compared with other existing RNN networks, it has three gates: input, output and forget. Considering the nature of this project involves text recognition, LSTM is a natural option. In this project's implementation, two LSTM layers with unit size 256 has been used."
      ]
    },
    {
      "cell_type": "markdown",
      "metadata": {
        "id": "Rwl7KdU3O2lX"
      },
      "source": [
        "##### 2.3.2 Bi-directional LSTM"
      ]
    },
    {
      "cell_type": "markdown",
      "metadata": {
        "id": "H_FPkDk_O2lZ"
      },
      "source": [
        "Bidirectional LSTM is basically a LSTM with both directions, in other words, the states in the neural network has access to both \"past\" and \"future\" information. This kind of model with same parameters as the normal LSTM has been implemented as well."
      ]
    },
    {
      "cell_type": "markdown",
      "metadata": {
        "id": "Y1Rgsd_aO2ld"
      },
      "source": [
        "##### 2.3.3 LSTM with attention"
      ]
    },
    {
      "cell_type": "markdown",
      "metadata": {
        "id": "qW4BzC0TO2lg"
      },
      "source": [
        "During the years of implementation and discussion, gradient explosion and vanishing might happen with very long sentences, since we are multiplying and processing the gradients too many times. In order to resolve this matter, attention modules have been designed. In traditional LSTMs or RNNs, the network has been divided into \"encoding\" and \"decoding\" process, where the decoding process will only deal with the last context vector (or \"thought\" vector) at the end of the encoding process. This would cause the mentioned gradient explosion or vanishing since it would be very likely that the information of previous text would be lost along the way to generate the thought vector. Attention modules are designed such that all the intermediate states would be taken into consideration and have an impact on the decoding process."
      ]
    },
    {
      "cell_type": "markdown",
      "metadata": {
        "id": "JxwwGGv4O2lj"
      },
      "source": [
        "##### 2.3.4 LSTM with attention, supplied with extra feature related articles"
      ]
    },
    {
      "cell_type": "markdown",
      "metadata": {
        "id": "-miVFMIyO2ll"
      },
      "source": [
        "Apart from pure claim text analysis, it would also be valuable to take the related articles into accont. Checking reference sources is also a reliable way to tell if a news is valid for humans. Hence a deep neural network that takes the related articles text into consideration has been implemented as well. We averages the prediction distribution result with that of the previous claim LSTM and derives the final result."
      ]
    },
    {
      "cell_type": "markdown",
      "metadata": {
        "id": "Gaiyw4dIbjSB"
      },
      "source": [
        "##### 2.3.5 Naive Bayes"
      ]
    },
    {
      "cell_type": "markdown",
      "metadata": {
        "id": "CQOikFhvcCfd"
      },
      "source": [
        "The Naive Bayes classifier is a probabilistic classifier. We basically compute the probability of each claim being in the each class (0: false, 1: partly true, 2: true). Since we are interested in the word sequence importance, we implement a model called Bag of Words to vectorize the claim based on the pre-constructed vocabulary. Then a Naive Bayes classifier is implemented to find the best class for each claim based on the maximum likelihood. However, Naive Bayes is a generative model which models the joint distribution of feature X and target Y to predict the P(y|x). It assumes all features to be conditionally independent, which means these features dont have correlation with each other and each feature is corresponding to one target."
      ]
    },
    {
      "cell_type": "markdown",
      "metadata": {
        "id": "299KTDJr5lTU"
      },
      "source": [
        "##### 2.3.6 Convolutional Neural Network (CNN)"
      ]
    },
    {
      "cell_type": "markdown",
      "metadata": {
        "id": "tvqq7mAv5rUr"
      },
      "source": [
        "CNN uses convolution in place of general matrix multiplication. Although CNN is not widely used in natural language processing, it is a powerful when handling complex classification problem. Based on the information provided in Yoon Kim's paper (https://arxiv.org/pdf/1408.5882v2.pdf), our group decided to implement a CNN classifier in order to compare the results woth the RNN classifiers mentioned above. As Kim's paper suggested, we also implemented an embedding layer taking advantage of the Word2vec function."
      ]
    },
    {
      "cell_type": "markdown",
      "metadata": {
        "id": "AMhn7tLhO2lm"
      },
      "source": [
        "### 3 Data Pre-processing"
      ]
    },
    {
      "cell_type": "code",
      "metadata": {
        "id": "mLK1MeqVO2ly"
      },
      "source": [
        "def save_obj(obj, name):\n",
        "    with open(Bookkeeping_path + name + '.pkl', 'wb+') as f:\n",
        "        pickle.dump(obj, f, pickle.HIGHEST_PROTOCOL)\n",
        "\n",
        "def load_obj(name):\n",
        "    with open(Bookkeeping_path + name + '.pkl', 'rb') as f:\n",
        "        return pickle.load(f)"
      ],
      "execution_count": null,
      "outputs": []
    },
    {
      "cell_type": "markdown",
      "metadata": {
        "id": "YbW9AE3XO2l5"
      },
      "source": [
        "First we will perform basic preceesing to the splitted claims, excluding the punctuations"
      ]
    },
    {
      "cell_type": "code",
      "metadata": {
        "id": "ZpMZbOQGO2l7"
      },
      "source": [
        "# training part\n",
        "claim_list = train['claim'].values\n",
        "claimant_list = train['claimant'].values\n",
        "date_list = train['date'].values\n",
        "labels_list = list(train['label'].values)\n",
        "related_list = train['related_articles'].values\n",
        "id_list = list(train['id'].values)\n",
        "\n",
        "# testing part\n",
        "# we are interested in 'claim', 'related article'\n",
        "test_claim_list = test['claim'].values\n",
        "test_related_list = test['related_articles'].values\n",
        "test_labels_list = list(test['label'].values)\n",
        "\n",
        "# retrive all articles from the folder\n",
        "all_articles = [f for f in listdir(article_folder) if isfile(join(article_folder, f))]\n",
        "all_claims_splitted = []\n",
        "most_common_dic = {}\n",
        "\n",
        "for index, row in train.iterrows():\n",
        "    # preprocessing here, replace useless symbols\n",
        "    all_claims_splitted.append(' '.join(cp for cp in row['claim_splitted'] if cp not in punctuation))"
      ],
      "execution_count": null,
      "outputs": []
    },
    {
      "cell_type": "markdown",
      "metadata": {
        "id": "rpLcRzRXO2mJ"
      },
      "source": [
        "Initilize a tokenizer and fit on all the claims"
      ]
    },
    {
      "cell_type": "code",
      "metadata": {
        "id": "7A-s_xNrO2me"
      },
      "source": [
        "tokenizer = Tokenizer()\n",
        "tokenizer.fit_on_texts(all_claims_splitted)\n",
        "\n",
        "save_obj(tokenizer, \"tokenizer\")"
      ],
      "execution_count": null,
      "outputs": []
    },
    {
      "cell_type": "markdown",
      "metadata": {
        "id": "C6kQqudjO2mt"
      },
      "source": [
        "### 4 Feature Generation"
      ]
    },
    {
      "cell_type": "markdown",
      "metadata": {
        "id": "whAEpiEaO2mv"
      },
      "source": [
        "In this part we will generate different kinds of features for the training part. We will do it two ways:\n",
        "\n",
        "1. [claim] purely claim as feature\n",
        "2. [claim, related_article text] claim + related article text as two features"
      ]
    },
    {
      "cell_type": "code",
      "metadata": {
        "id": "Dqps_eHsO2my"
      },
      "source": [
        "def split_features(features, label):\n",
        "    features_split = []\n",
        "    label_list = []\n",
        "    for i in range(len(features[1])):\n",
        "        features_split.append([features[0], features[1][i]])\n",
        "        label_list.append(label)\n",
        "\n",
        "    return features_split, label_list"
      ],
      "execution_count": null,
      "outputs": []
    },
    {
      "cell_type": "code",
      "metadata": {
        "id": "PCHgpTI_O2m2"
      },
      "source": [
        "def feature_pre_generation(claim_list, related_list):\n",
        "    # vector [claim, related articles]\n",
        "    features = []\n",
        "    for i in range(claim_list.shape[0]):\n",
        "        features.append([claim_list[i], related_list[i]])\n",
        "    return features"
      ],
      "execution_count": null,
      "outputs": []
    },
    {
      "cell_type": "code",
      "metadata": {
        "id": "MopddGrSO2m_"
      },
      "source": [
        "def feature_generation_claim_and_related(feature_list, label_list, X, Y):\n",
        "    for i in range(len(label_list)):\n",
        "        feat, lab = feature_list[i], label_list[i]\n",
        "        try:\n",
        "            split_feats, corresponding_labs = split_features(feat, lab)\n",
        "            for j in range(len(split_feats)):\n",
        "                X.append(split_feats[j])\n",
        "                Y.append(corresponding_labs[j])\n",
        "        except:\n",
        "            pass\n",
        "    return X, Y"
      ],
      "execution_count": null,
      "outputs": []
    },
    {
      "cell_type": "code",
      "metadata": {
        "id": "_8MWfSK5O2nI"
      },
      "source": [
        "def fill_sets_one(X, Y, tokenizer, feature_list, label_list):\n",
        "    labels = [[0, 0, 1], [0, 1, 0], [1, 0, 0]]\n",
        "    labels = np.array(labels)\n",
        "    for i in range(len(feature_list)):\n",
        "        claim_data = tokenizer.texts_to_sequences([feature_list[i][0]])\n",
        "        claim_data = pad_sequences(claim_data, maxlen=MAX_LEN_CLAIM, padding='post', truncating='post')[0]\n",
        "        X.append(claim_data)\n",
        "        Y.append(labels[label_list[i]])\n",
        "    return X, Y"
      ],
      "execution_count": null,
      "outputs": []
    },
    {
      "cell_type": "code",
      "metadata": {
        "id": "4FyFEpPUO2nN"
      },
      "source": [
        "def fill_sets_two(X_c, X_a, Y, X_feature, Y_feature, tokenizer):\n",
        "    labels = [[0, 0, 1], [0, 1, 0], [1, 0, 0]]\n",
        "    labels = np.array(labels)\n",
        "    for i in range(len(X_feature)):\n",
        "        claim_data = tokenizer.texts_to_sequences([X_feature[i][0]])\n",
        "        claim_data = pad_sequences(claim_data, maxlen=MAX_LEN_CLAIM, padding='post', truncating='post')[0]\n",
        "        X_c.append(claim_data)\n",
        "\n",
        "        related = X_feature[i][1]\n",
        "        with open(article_folder + '/' + str(related) + '.txt', 'r', encoding='utf-8') as f:\n",
        "            related_data = f.read()\n",
        "        related_data = tokenizer.texts_to_sequences([related_data])\n",
        "        art_data = pad_sequences(related_data, maxlen=MAX_LEN_ART, padding='post', truncating='post')[0]\n",
        "        X_a.append(art_data)\n",
        "        Y.append(labels[Y_feature[i]])\n",
        "        if (i % 5000 == 0):\n",
        "            print(\"training set {} of {} samples completed\".format(i, len(X_feature)))\n",
        "    return X_c, X_a, Y"
      ],
      "execution_count": null,
      "outputs": []
    },
    {
      "cell_type": "markdown",
      "metadata": {
        "id": "QBYMxB7EO2nQ"
      },
      "source": [
        "One hot encoding for labels: [1, 0, 0] is false, [0, 1, 0] is partly true, [0, 0, 1] is true"
      ]
    },
    {
      "cell_type": "code",
      "metadata": {
        "id": "xYPf9kDpO2nR"
      },
      "source": [
        "# generate training features\n",
        "feature_train = feature_pre_generation(claim_list, related_list)"
      ],
      "execution_count": null,
      "outputs": []
    },
    {
      "cell_type": "code",
      "metadata": {
        "id": "MgOTU5jtO2nV"
      },
      "source": [
        "# generate testing features\n",
        "feature_test = feature_pre_generation(test_claim_list, test_related_list)"
      ],
      "execution_count": null,
      "outputs": []
    },
    {
      "cell_type": "markdown",
      "metadata": {
        "id": "VQaFqzGVO2nZ"
      },
      "source": [
        "initialize training and test inputs, outputs"
      ]
    },
    {
      "cell_type": "code",
      "metadata": {
        "id": "OPTcRwiCO2nb"
      },
      "source": [
        "X_train_one = []\n",
        "Y_train_one = []\n",
        "X_test_one = []\n",
        "Y_test_one = []"
      ],
      "execution_count": null,
      "outputs": []
    },
    {
      "cell_type": "code",
      "metadata": {
        "id": "j3W3zWSSO2ns"
      },
      "source": [
        "X_train_feature = []\n",
        "Y_train_feature = []\n",
        "X_test_feature = []\n",
        "Y_test_feature = []"
      ],
      "execution_count": null,
      "outputs": []
    },
    {
      "cell_type": "code",
      "metadata": {
        "id": "l1F8ryH1O2n2"
      },
      "source": [
        "X_train_two_claim = []\n",
        "X_test_two_claim = []\n",
        "X_train_two_art = []\n",
        "Y_train_two = []\n",
        "X_test_two_art = []\n",
        "Y_test_two = []"
      ],
      "execution_count": null,
      "outputs": []
    },
    {
      "cell_type": "code",
      "metadata": {
        "id": "XxpRlYhBO2n8"
      },
      "source": [
        "X_train_one, Y_train_one = fill_sets_one(X_train_one, Y_train_one, tokenizer, feature_train, labels_list)"
      ],
      "execution_count": null,
      "outputs": []
    },
    {
      "cell_type": "code",
      "metadata": {
        "id": "ODZO_dbiO2oE"
      },
      "source": [
        "X_test_one, Y_test_one = fill_sets_one(X_test_one, Y_test_one, tokenizer, feature_test, test_labels_list)"
      ],
      "execution_count": null,
      "outputs": []
    },
    {
      "cell_type": "code",
      "metadata": {
        "id": "WCnWV4BWO2oI"
      },
      "source": [
        "X_train_feature, Y_train_feature = feature_generation_claim_and_related(feature_train, labels_list, X_train_feature, Y_train_feature)"
      ],
      "execution_count": null,
      "outputs": []
    },
    {
      "cell_type": "code",
      "metadata": {
        "id": "r0N_xFStO2oN"
      },
      "source": [
        "X_test_feature, Y_test_feature = feature_generation_claim_and_related(feature_test, test_labels_list, X_test_feature, Y_test_feature)"
      ],
      "execution_count": null,
      "outputs": []
    },
    {
      "cell_type": "code",
      "metadata": {
        "id": "0-kJpixeO2oS",
        "outputId": "a47d9000-272a-4d0f-d41d-0a7849c4ff47"
      },
      "source": [
        "X_train_two_claim, X_train_two_art, Y_train_two = fill_sets_two(X_train_two_claim, X_train_two_art, Y_train_two, X_train_feature, Y_train_feature, tokenizer)"
      ],
      "execution_count": null,
      "outputs": [
        {
          "name": "stdout",
          "output_type": "stream",
          "text": [
            "training set 0 of 62053 samples completed\n",
            "training set 5000 of 62053 samples completed\n",
            "training set 10000 of 62053 samples completed\n",
            "training set 15000 of 62053 samples completed\n",
            "training set 20000 of 62053 samples completed\n",
            "training set 25000 of 62053 samples completed\n",
            "training set 30000 of 62053 samples completed\n",
            "training set 35000 of 62053 samples completed\n",
            "training set 40000 of 62053 samples completed\n",
            "training set 45000 of 62053 samples completed\n",
            "training set 50000 of 62053 samples completed\n",
            "training set 55000 of 62053 samples completed\n",
            "training set 60000 of 62053 samples completed\n"
          ]
        }
      ]
    },
    {
      "cell_type": "code",
      "metadata": {
        "id": "NHLQwvDCO2oX",
        "outputId": "e9ad6b97-6260-4d12-a993-f28d17620697"
      },
      "source": [
        "X_test_two_claim, X_test_two_art, Y_test_two = fill_sets_two(X_test_two_claim, X_test_two_art, Y_test_two, X_test_feature, Y_test_feature, tokenizer)"
      ],
      "execution_count": null,
      "outputs": [
        {
          "name": "stdout",
          "output_type": "stream",
          "text": [
            "training set 0 of 15627 samples completed\n",
            "training set 5000 of 15627 samples completed\n",
            "training set 10000 of 15627 samples completed\n",
            "training set 15000 of 15627 samples completed\n"
          ]
        }
      ]
    },
    {
      "cell_type": "code",
      "metadata": {
        "id": "Ej9hcwWmO2oa"
      },
      "source": [
        "X_train_one = np.array(X_train_one)\n",
        "Y_train_one = np.array(Y_train_one)\n",
        "X_test_one = np.array(X_test_one)\n",
        "Y_test_one = np.array(Y_test_one)\n",
        "\n",
        "X_train_two_claim = np.array(X_train_two_claim)\n",
        "X_test_two_claim = np.array(X_test_two_claim)\n",
        "X_train_two_art = np.array(X_train_two_art)\n",
        "X_test_two_art = np.array(X_test_two_art)\n",
        "Y_train_two = np.array(Y_train_two)\n",
        "Y_test_two = np.array(Y_test_two)"
      ],
      "execution_count": null,
      "outputs": []
    },
    {
      "cell_type": "code",
      "metadata": {
        "id": "CL86joVmO2oe",
        "outputId": "ebb34783-a9d2-43aa-960e-9369534c4106"
      },
      "source": [
        "X_train_one.shape"
      ],
      "execution_count": null,
      "outputs": [
        {
          "data": {
            "text/plain": [
              "(12444, 100)"
            ]
          },
          "execution_count": 33,
          "metadata": {
            "tags": []
          },
          "output_type": "execute_result"
        }
      ]
    },
    {
      "cell_type": "code",
      "metadata": {
        "id": "oS8jwIcmO2ok",
        "outputId": "013631f5-fbad-4267-eb6e-dcdb3b0d2a86"
      },
      "source": [
        "Y_train_one.shape"
      ],
      "execution_count": null,
      "outputs": [
        {
          "data": {
            "text/plain": [
              "(12444, 3)"
            ]
          },
          "execution_count": 34,
          "metadata": {
            "tags": []
          },
          "output_type": "execute_result"
        }
      ]
    },
    {
      "cell_type": "code",
      "metadata": {
        "id": "0gAvQ6wFO2op",
        "outputId": "247ce980-797a-4502-935b-7fda19f6c1f0"
      },
      "source": [
        "X_test_one.shape"
      ],
      "execution_count": null,
      "outputs": [
        {
          "data": {
            "text/plain": [
              "(3111, 100)"
            ]
          },
          "execution_count": 35,
          "metadata": {
            "tags": []
          },
          "output_type": "execute_result"
        }
      ]
    },
    {
      "cell_type": "code",
      "metadata": {
        "id": "beBafxm4O2oy",
        "outputId": "0e1beb12-4950-4935-f5e5-05be81912814"
      },
      "source": [
        "Y_test_one.shape"
      ],
      "execution_count": null,
      "outputs": [
        {
          "data": {
            "text/plain": [
              "(3111, 3)"
            ]
          },
          "execution_count": 36,
          "metadata": {
            "tags": []
          },
          "output_type": "execute_result"
        }
      ]
    },
    {
      "cell_type": "code",
      "metadata": {
        "id": "wvYZCGzgO2pe",
        "outputId": "fcac1a95-a646-4b80-8d61-8a49ea4ae5f9"
      },
      "source": [
        "X_train_two_claim.shape"
      ],
      "execution_count": null,
      "outputs": [
        {
          "data": {
            "text/plain": [
              "(62053, 100)"
            ]
          },
          "execution_count": 37,
          "metadata": {
            "tags": []
          },
          "output_type": "execute_result"
        }
      ]
    },
    {
      "cell_type": "code",
      "metadata": {
        "id": "FGXVefIPO2pp",
        "outputId": "c51dcc99-7645-4417-e266-f035507dfdba"
      },
      "source": [
        "X_test_two_claim.shape"
      ],
      "execution_count": null,
      "outputs": [
        {
          "data": {
            "text/plain": [
              "(15627, 100)"
            ]
          },
          "execution_count": 38,
          "metadata": {
            "tags": []
          },
          "output_type": "execute_result"
        }
      ]
    },
    {
      "cell_type": "code",
      "metadata": {
        "id": "YfRadP4sO2pu",
        "outputId": "b9dfe537-d0c8-4549-c2e7-8d2d33c115a4"
      },
      "source": [
        "X_train_two_art.shape"
      ],
      "execution_count": null,
      "outputs": [
        {
          "data": {
            "text/plain": [
              "(62053, 1500)"
            ]
          },
          "execution_count": 39,
          "metadata": {
            "tags": []
          },
          "output_type": "execute_result"
        }
      ]
    },
    {
      "cell_type": "code",
      "metadata": {
        "id": "_je4HmBVO2py",
        "outputId": "c25063b8-4ce8-4ecc-89de-022729e876b4"
      },
      "source": [
        "X_test_two_art.shape"
      ],
      "execution_count": null,
      "outputs": [
        {
          "data": {
            "text/plain": [
              "(15627, 1500)"
            ]
          },
          "execution_count": 40,
          "metadata": {
            "tags": []
          },
          "output_type": "execute_result"
        }
      ]
    },
    {
      "cell_type": "code",
      "metadata": {
        "id": "GsMDOcr5O2qB",
        "outputId": "b7d739aa-55f9-43e7-9175-b3144cf67f43"
      },
      "source": [
        "Y_train_two.shape"
      ],
      "execution_count": null,
      "outputs": [
        {
          "data": {
            "text/plain": [
              "(62053, 3)"
            ]
          },
          "execution_count": 41,
          "metadata": {
            "tags": []
          },
          "output_type": "execute_result"
        }
      ]
    },
    {
      "cell_type": "code",
      "metadata": {
        "id": "8pa8GkkCO2qL",
        "outputId": "3d26eaf6-1314-46c2-a531-82517f8377db"
      },
      "source": [
        "Y_test_two.shape"
      ],
      "execution_count": null,
      "outputs": [
        {
          "data": {
            "text/plain": [
              "(15627, 3)"
            ]
          },
          "execution_count": 42,
          "metadata": {
            "tags": []
          },
          "output_type": "execute_result"
        }
      ]
    },
    {
      "cell_type": "markdown",
      "metadata": {
        "id": "IKNxnUwjR5ec"
      },
      "source": [
        "### 5 Naive Bayes Implementation\n",
        "A NB approach has been implemented as a reference\n",
        "#### 5.1 Bag of Words Model\n",
        "Bag of Words Model is used to convert sentences (claims) into vectors. In Natrual Language Processing, this model can be used to extract features from text. The first step is to generate a vocabulary, which is a list of distinct words extracted from our claims. Then each claim is vectorized based on the vocabulary. The output for this model is a numerical vector representing each sentence."
      ]
    },
    {
      "cell_type": "code",
      "metadata": {
        "id": "MdXfiKi_taVa"
      },
      "source": [
        "claims = []\n",
        "for claim in train['claim']:\n",
        "  claims.append(claim)"
      ],
      "execution_count": null,
      "outputs": []
    },
    {
      "cell_type": "code",
      "metadata": {
        "id": "lYcdzNILtaVc"
      },
      "source": [
        "stop_words = stopwords.words('english')"
      ],
      "execution_count": null,
      "outputs": []
    },
    {
      "cell_type": "code",
      "metadata": {
        "id": "AzKJ72U_R5ec"
      },
      "source": [
        "from sklearn.feature_extraction.text import CountVectorizer\n",
        "vectorizer = CountVectorizer(analyzer = \"word\", tokenizer = None, preprocessor = None, stop_words = stop_words, max_features = 10000) \n",
        "train_data_features = vectorizer.fit_transform(claims)\n",
        "bagofwords_data = []\n",
        "for claim in train['claim']:\n",
        "  bagofwords_list = vectorizer.transform([claim]).toarray()\n",
        "  bagofwords_data.append(bagofwords_list[0])"
      ],
      "execution_count": null,
      "outputs": []
    },
    {
      "cell_type": "code",
      "metadata": {
        "id": "0jZb2brbR5ef"
      },
      "source": [
        "X = pd.DataFrame(bagofwords_data, dtype=np.int8)\n",
        "y = list(train['label'].values)"
      ],
      "execution_count": null,
      "outputs": []
    },
    {
      "cell_type": "markdown",
      "metadata": {
        "id": "xJFsM-7QR5et"
      },
      "source": [
        "#### 5.2 Multinomial NB Classifier"
      ]
    },
    {
      "cell_type": "code",
      "metadata": {
        "id": "vAp0xl08R5ew",
        "outputId": "1b060ede-feb6-4f6d-831a-bb04f2f8896f"
      },
      "source": [
        "X_train, X_validation, y_train, y_validation = train_test_split(X, y, test_size=0.3)\n",
        "NBmodel = MultinomialNB()\n",
        "NBmodel.fit(X_train, y_train)\n",
        "\n",
        "pickle.dump(NBmodel, open(save_NBmodel, 'wb'))\n",
        " \n",
        "# some time later...\n",
        " \n",
        "# load the model from disk\n",
        "NBmodel = pickle.load(open(save_NBmodel, 'rb'))\n",
        "\n",
        "y_train_predict = NBmodel.predict(X_train)\n",
        "y_validation_predict = NBmodel.predict(X_validation)\n",
        "train_accuracy = f1_score(y_train, y_train_predict, average='micro')\n",
        "validation_accuracy = f1_score(y_validation, y_validation_predict,average='micro')\n",
        "print(\"Train accuracy: {}\".format(train_accuracy))\n",
        "print(\"Validation accuracy: {}\".format(validation_accuracy))"
      ],
      "execution_count": null,
      "outputs": [
        {
          "name": "stdout",
          "output_type": "stream",
          "text": [
            "Train accuracy: 0.7468427095292767\n",
            "Validation accuracy: 0.5715050883770755\n"
          ]
        }
      ]
    },
    {
      "cell_type": "markdown",
      "metadata": {
        "id": "qMX1cNf7yCB7"
      },
      "source": [
        "#### 5.3 Apply the Fitted NB Model on Test Set"
      ]
    },
    {
      "cell_type": "code",
      "metadata": {
        "id": "UIeZS6FRyCB8"
      },
      "source": [
        "bagofwords_data_test = []\n",
        "for claim in test['claim']:\n",
        "  bagofwords_list_test = vectorizer.transform([claim]).toarray()\n",
        "  bagofwords_data_test.append(bagofwords_list_test[0])"
      ],
      "execution_count": null,
      "outputs": []
    },
    {
      "cell_type": "code",
      "metadata": {
        "id": "VlxKc8kQyCB8"
      },
      "source": [
        "X_test = pd.DataFrame(bagofwords_data_test, dtype=np.int8)\n",
        "y_test = list(test['label'].values)"
      ],
      "execution_count": null,
      "outputs": []
    },
    {
      "cell_type": "code",
      "metadata": {
        "id": "_1pNwS-dyCB9",
        "outputId": "6d78adae-aabe-4312-bd0c-559de8b13df6"
      },
      "source": [
        "y_test_predict = NBmodel.predict(X_test)\n",
        "test_accuracy = f1_score(y_test, y_test_predict,average='micro')\n",
        "print(\"Test accuracy: {}\".format(test_accuracy))"
      ],
      "execution_count": null,
      "outputs": [
        {
          "name": "stdout",
          "output_type": "stream",
          "text": [
            "Test accuracy: 0.5789135326261652\n"
          ]
        }
      ]
    },
    {
      "cell_type": "markdown",
      "metadata": {
        "id": "k1fhkrvVO2qR"
      },
      "source": [
        "### 6 Word Embedding"
      ]
    },
    {
      "cell_type": "markdown",
      "metadata": {
        "id": "55mDaX5BO2qS"
      },
      "source": [
        "With text features generated and fit tokenizer in hand, we could perform word embedding and generate word embedding (weight) matrix. In this project we would use the pretrained embedding from glove"
      ]
    },
    {
      "cell_type": "code",
      "metadata": {
        "id": "Kj44KShWO2qT"
      },
      "source": [
        "word_index = tokenizer.word_index"
      ],
      "execution_count": null,
      "outputs": []
    },
    {
      "cell_type": "code",
      "metadata": {
        "id": "_t6iuPFNO2qX"
      },
      "source": [
        "embeddings_index = {}\n",
        "f = open(glove_data_file, encoding='utf-8', errors='ignore')\n",
        "for line in f:\n",
        "    values = line.split()\n",
        "    word = values[0]\n",
        "    coefs = np.asarray(values[1:], dtype='float32')\n",
        "    embeddings_index[word] = coefs\n",
        "f.close()"
      ],
      "execution_count": null,
      "outputs": []
    },
    {
      "cell_type": "code",
      "metadata": {
        "id": "2FXY1J-JO2ql"
      },
      "source": [
        "embedding_matrix = np.zeros((len(word_index) + 1, EMBEDDING_SIZE))\n",
        "for word, i in word_index.items():\n",
        "    embedding_vector = embeddings_index.get(word)\n",
        "    if embedding_vector is not None:\n",
        "        embedding_matrix[i] = embedding_vector"
      ],
      "execution_count": null,
      "outputs": []
    },
    {
      "cell_type": "markdown",
      "metadata": {
        "id": "zJU3J0I6O2qv"
      },
      "source": [
        "### 7 Model Implementations (LSTM)"
      ]
    },
    {
      "cell_type": "markdown",
      "metadata": {
        "id": "Dj0ggLDrV3dZ"
      },
      "source": [
        "#### 7.1 General LSTM"
      ]
    },
    {
      "cell_type": "code",
      "metadata": {
        "id": "egKjWrHoO2qw",
        "outputId": "d0e19902-0748-4086-e377-ea22e93bd15f"
      },
      "source": [
        "model_one = Sequential()\n",
        "embedding_layer = Embedding(input_dim=len(word_index)+1, output_dim=EMBEDDING_SIZE,  weights=[embedding_matrix], input_length=MAX_LEN_CLAIM, trainable=False)\n",
        "\n",
        "model_one.add(embedding_layer)\n",
        "model_one.add(LSTM(unit_size, return_sequences=True))\n",
        "model_one.add(LSTM(unit_size, return_sequences=True))\n",
        "model_one.add(Flatten())\n",
        "model_one.add(Dense(3, activation='softmax'))\n",
        "model_one.compile(loss='categorical_crossentropy', optimizer='rmsprop', metrics=['accuracy'])\n",
        "\n",
        "model_one.fit(X_train_one, Y_train_one, epochs=5, batch_size=64)\n",
        "print(model_one.summary())\n",
        "\n",
        "# save model\n",
        "model_json = model_one.to_json()\n",
        "with open(save_model_json_1, \"w+\") as json_file:\n",
        "    json_file.write(model_json)\n",
        "model_one.save_weights(save_model_weights_1)\n",
        "print(\"model saved\")\n",
        "\n",
        "# load model\n",
        "json_file = open(save_model_json_1, 'r')\n",
        "loaded_model_json = json_file.read()\n",
        "json_file.close()\n",
        "loaded_model = model_from_json(loaded_model_json)\n",
        "loaded_model.load_weights(save_model_weights_1)\n",
        "print(\"model loaded\")\n",
        "\n",
        "loaded_model.compile(loss='categorical_crossentropy', optimizer='rmsprop', metrics=['accuracy'])\n",
        "scores = loaded_model.evaluate(X_test_one, Y_test_one, verbose=0)\n",
        "print(\"Accuracy: %.2f%%\" % (scores[1]*100))"
      ],
      "execution_count": null,
      "outputs": [
        {
          "name": "stdout",
          "output_type": "stream",
          "text": [
            "WARNING:tensorflow:From C:\\Users\\Louise\\Anaconda3\\envs\\CMU\\lib\\site-packages\\keras\\backend\\tensorflow_backend.py:74: The name tf.get_default_graph is deprecated. Please use tf.compat.v1.get_default_graph instead.\n",
            "\n",
            "WARNING:tensorflow:From C:\\Users\\Louise\\Anaconda3\\envs\\CMU\\lib\\site-packages\\keras\\backend\\tensorflow_backend.py:517: The name tf.placeholder is deprecated. Please use tf.compat.v1.placeholder instead.\n",
            "\n",
            "WARNING:tensorflow:From C:\\Users\\Louise\\Anaconda3\\envs\\CMU\\lib\\site-packages\\keras\\backend\\tensorflow_backend.py:4138: The name tf.random_uniform is deprecated. Please use tf.random.uniform instead.\n",
            "\n",
            "WARNING:tensorflow:From C:\\Users\\Louise\\Anaconda3\\envs\\CMU\\lib\\site-packages\\keras\\backend\\tensorflow_backend.py:174: The name tf.get_default_session is deprecated. Please use tf.compat.v1.get_default_session instead.\n",
            "\n",
            "WARNING:tensorflow:From C:\\Users\\Louise\\Anaconda3\\envs\\CMU\\lib\\site-packages\\keras\\backend\\tensorflow_backend.py:181: The name tf.ConfigProto is deprecated. Please use tf.compat.v1.ConfigProto instead.\n",
            "\n",
            "WARNING:tensorflow:From C:\\Users\\Louise\\Anaconda3\\envs\\CMU\\lib\\site-packages\\keras\\optimizers.py:790: The name tf.train.Optimizer is deprecated. Please use tf.compat.v1.train.Optimizer instead.\n",
            "\n",
            "WARNING:tensorflow:From C:\\Users\\Louise\\Anaconda3\\envs\\CMU\\lib\\site-packages\\tensorflow\\python\\ops\\math_grad.py:1250: add_dispatch_support.<locals>.wrapper (from tensorflow.python.ops.array_ops) is deprecated and will be removed in a future version.\n",
            "Instructions for updating:\n",
            "Use tf.where in 2.0, which has the same broadcast rule as np.where\n",
            "Epoch 1/5\n",
            "12444/12444 [==============================] - 48s 4ms/step - loss: 0.9344 - acc: 0.5544\n",
            "Epoch 2/5\n",
            "12444/12444 [==============================] - 47s 4ms/step - loss: 0.8871 - acc: 0.5823\n",
            "Epoch 3/5\n",
            "12444/12444 [==============================] - 47s 4ms/step - loss: 0.8633 - acc: 0.6035\n",
            "Epoch 4/5\n",
            "12444/12444 [==============================] - 47s 4ms/step - loss: 0.8386 - acc: 0.6138\n",
            "Epoch 5/5\n",
            "12444/12444 [==============================] - 47s 4ms/step - loss: 0.8032 - acc: 0.6345\n",
            "_________________________________________________________________\n",
            "Layer (type)                 Output Shape              Param #   \n",
            "=================================================================\n",
            "embedding_1 (Embedding)      (None, 100, 100)          1966000   \n",
            "_________________________________________________________________\n",
            "lstm_1 (LSTM)                (None, 100, 256)          365568    \n",
            "_________________________________________________________________\n",
            "lstm_2 (LSTM)                (None, 100, 256)          525312    \n",
            "_________________________________________________________________\n",
            "flatten_1 (Flatten)          (None, 25600)             0         \n",
            "_________________________________________________________________\n",
            "dense_1 (Dense)              (None, 3)                 76803     \n",
            "=================================================================\n",
            "Total params: 2,933,683\n",
            "Trainable params: 967,683\n",
            "Non-trainable params: 1,966,000\n",
            "_________________________________________________________________\n",
            "None\n",
            "model saved\n",
            "model loaded\n",
            "Accuracy: 58.76%\n"
          ]
        }
      ]
    },
    {
      "cell_type": "markdown",
      "metadata": {
        "id": "hnDxC5JyO2rD"
      },
      "source": [
        "#### 7.2 Bi-directional LSTM"
      ]
    },
    {
      "cell_type": "code",
      "metadata": {
        "id": "nmjh8nrUO2rG",
        "outputId": "d0e4c930-6538-4785-853d-73c1e1e5c9f3"
      },
      "source": [
        "model_one_bi = Sequential()\n",
        "embedding_layer = Embedding(input_dim=len(word_index)+1, output_dim=EMBEDDING_SIZE,  weights=[embedding_matrix], input_length=MAX_LEN_CLAIM, trainable=False)\n",
        "\n",
        "model_one_bi.add(embedding_layer)\n",
        "model_one_bi.add(Bidirectional(LSTM(unit_size, return_sequences=True, dropout=0.25, recurrent_dropout=0.1)))\n",
        "model_one_bi.add(Bidirectional(LSTM(unit_size, return_sequences=True, dropout=0.25, recurrent_dropout=0.1)))\n",
        "model_one_bi.add(Flatten())\n",
        "model_one_bi.add(Dense(3, activation='softmax'))\n",
        "model_one_bi.compile(loss='categorical_crossentropy', optimizer='rmsprop', metrics=['accuracy'])\n",
        "\n",
        "model_one_bi.fit(X_train_one, Y_train_one, epochs=5, batch_size=64)\n",
        "print(model_one_bi.summary())\n",
        "\n",
        "# save model\n",
        "model_json = model_one_bi.to_json()\n",
        "with open(save_model_json_2, \"w+\") as json_file:\n",
        "    json_file.write(model_json)\n",
        "model_one_bi.save_weights(save_model_weights_2)\n",
        "print(\"model saved\")\n",
        "\n",
        "# load model\n",
        "json_file = open(save_model_json_2, 'r')\n",
        "loaded_model_json = json_file.read()\n",
        "json_file.close()\n",
        "loaded_model = model_from_json(loaded_model_json)\n",
        "loaded_model.load_weights(save_model_weights_2)\n",
        "print(\"model loaded\")             \n",
        "       \n",
        "loaded_model.compile(loss='categorical_crossentropy', optimizer='rmsprop', metrics=['accuracy'])\n",
        "scores = loaded_model.evaluate(X_test_one, Y_test_one, verbose=0)\n",
        "print(\"Accuracy: %.2f%%\" % (scores[1]*100))"
      ],
      "execution_count": null,
      "outputs": [
        {
          "name": "stdout",
          "output_type": "stream",
          "text": [
            "WARNING:tensorflow:From C:\\Users\\Louise\\Anaconda3\\envs\\CMU\\lib\\site-packages\\keras\\backend\\tensorflow_backend.py:3445: calling dropout (from tensorflow.python.ops.nn_ops) with keep_prob is deprecated and will be removed in a future version.\n",
            "Instructions for updating:\n",
            "Please use `rate` instead of `keep_prob`. Rate should be set to `rate = 1 - keep_prob`.\n",
            "Epoch 1/5\n",
            "12444/12444 [==============================] - 93s 7ms/step - loss: 0.9897 - acc: 0.5215\n",
            "Epoch 2/5\n",
            "12444/12444 [==============================] - 91s 7ms/step - loss: 0.9144 - acc: 0.5611\n",
            "Epoch 3/5\n",
            "12444/12444 [==============================] - 92s 7ms/step - loss: 0.8894 - acc: 0.5877\n",
            "Epoch 4/5\n",
            "12444/12444 [==============================] - 91s 7ms/step - loss: 0.8713 - acc: 0.5974\n",
            "Epoch 5/5\n",
            "12444/12444 [==============================] - 91s 7ms/step - loss: 0.8428 - acc: 0.6155\n",
            "_________________________________________________________________\n",
            "Layer (type)                 Output Shape              Param #   \n",
            "=================================================================\n",
            "embedding_2 (Embedding)      (None, 100, 100)          1966000   \n",
            "_________________________________________________________________\n",
            "bidirectional_1 (Bidirection (None, 100, 512)          731136    \n",
            "_________________________________________________________________\n",
            "bidirectional_2 (Bidirection (None, 100, 512)          1574912   \n",
            "_________________________________________________________________\n",
            "flatten_2 (Flatten)          (None, 51200)             0         \n",
            "_________________________________________________________________\n",
            "dense_2 (Dense)              (None, 3)                 153603    \n",
            "=================================================================\n",
            "Total params: 4,425,651\n",
            "Trainable params: 2,459,651\n",
            "Non-trainable params: 1,966,000\n",
            "_________________________________________________________________\n",
            "None\n",
            "model saved\n",
            "model loaded\n",
            "Accuracy: 55.87%\n"
          ]
        }
      ]
    },
    {
      "cell_type": "markdown",
      "metadata": {
        "id": "fd1ws7n_O2rV"
      },
      "source": [
        "#### 7.3 LSTM with attention"
      ]
    },
    {
      "cell_type": "code",
      "metadata": {
        "id": "UIehDEoZO2rc",
        "outputId": "816f1486-729d-45ae-e765-2f1658096dc7"
      },
      "source": [
        "_input = Input(shape=[MAX_LEN_CLAIM], dtype='int32')\n",
        "embedded = Embedding(input_dim=len(word_index)+1, output_dim=EMBEDDING_SIZE,  weights=[embedding_matrix], input_length=MAX_LEN_CLAIM, trainable=False)(_input)\n",
        "model_LSTM = LSTM(unit_size, return_sequences=True)(embedded)\n",
        "model_LSTM = LSTM(unit_size, return_sequences=True)(model_LSTM)\n",
        "\n",
        "model_attention = TimeDistributed(Dense(1, activation='tanh'))(model_LSTM)\n",
        "model_attention = Flatten()(model_attention)\n",
        "model_attention = Activation('softmax')(model_attention)\n",
        "model_attention = RepeatVector(unit_size)(model_attention)\n",
        "model_attention = Permute([2, 1])(model_attention)\n",
        "\n",
        "merged = Multiply()([model_LSTM, model_attention])\n",
        "merged = Lambda(lambda xin: K.sum(xin, axis=1))(merged)\n",
        "distributions = Dense(3, activation='softmax')(merged)\n",
        "\n",
        "model_one_attention = Model(inputs=_input, outputs=distributions)\n",
        "model_one_attention.compile(loss='categorical_crossentropy', optimizer='rmsprop', metrics=['accuracy'])\n",
        "\n",
        "model_one_attention.fit(X_train_one, Y_train_one, epochs=5, batch_size=64)\n",
        "print(model_one_attention.summary())\n",
        "                           \n",
        "# save model\n",
        "model_json = model_one_attention.to_json()\n",
        "with open(save_model_json_3, \"w+\") as json_file:\n",
        "    json_file.write(model_json)\n",
        "model_one_attention.save_weights(save_model_weights_3)\n",
        "print(\"model saved\")\n",
        "\n",
        "# load model\n",
        "json_file = open(save_model_json_3, 'r')\n",
        "loaded_model_json = json_file.read()\n",
        "json_file.close()\n",
        "loaded_model = model_from_json(loaded_model_json)\n",
        "loaded_model.load_weights(save_model_weights_3)\n",
        "print(\"model loaded\")                                \n",
        "          \n",
        "loaded_model.compile(loss='categorical_crossentropy', optimizer='rmsprop', metrics=['accuracy'])\n",
        "scores = loaded_model.evaluate(X_test_one, Y_test_one, verbose=0)\n",
        "print(\"Accuracy: %.2f%%\" % (scores[1]*100))"
      ],
      "execution_count": null,
      "outputs": [
        {
          "name": "stdout",
          "output_type": "stream",
          "text": [
            "Epoch 1/5\n",
            "12444/12444 [==============================] - 48s 4ms/step - loss: 0.9407 - acc: 0.5494\n",
            "Epoch 2/5\n",
            "12444/12444 [==============================] - 47s 4ms/step - loss: 0.8957 - acc: 0.5803\n",
            "Epoch 3/5\n",
            "12444/12444 [==============================] - 47s 4ms/step - loss: 0.8820 - acc: 0.5903\n",
            "Epoch 4/5\n",
            "12444/12444 [==============================] - 47s 4ms/step - loss: 0.8690 - acc: 0.5974\n",
            "Epoch 5/5\n",
            "12444/12444 [==============================] - 47s 4ms/step - loss: 0.8561 - acc: 0.6062\n",
            "__________________________________________________________________________________________________\n",
            "Layer (type)                    Output Shape         Param #     Connected to                     \n",
            "==================================================================================================\n",
            "input_1 (InputLayer)            (None, 100)          0                                            \n",
            "__________________________________________________________________________________________________\n",
            "embedding_3 (Embedding)         (None, 100, 100)     1966000     input_1[0][0]                    \n",
            "__________________________________________________________________________________________________\n",
            "lstm_5 (LSTM)                   (None, 100, 256)     365568      embedding_3[0][0]                \n",
            "__________________________________________________________________________________________________\n",
            "lstm_6 (LSTM)                   (None, 100, 256)     525312      lstm_5[0][0]                     \n",
            "__________________________________________________________________________________________________\n",
            "time_distributed_1 (TimeDistrib (None, 100, 1)       257         lstm_6[0][0]                     \n",
            "__________________________________________________________________________________________________\n",
            "flatten_3 (Flatten)             (None, 100)          0           time_distributed_1[0][0]         \n",
            "__________________________________________________________________________________________________\n",
            "activation_1 (Activation)       (None, 100)          0           flatten_3[0][0]                  \n",
            "__________________________________________________________________________________________________\n",
            "repeat_vector_1 (RepeatVector)  (None, 256, 100)     0           activation_1[0][0]               \n",
            "__________________________________________________________________________________________________\n",
            "permute_1 (Permute)             (None, 100, 256)     0           repeat_vector_1[0][0]            \n",
            "__________________________________________________________________________________________________\n",
            "multiply_1 (Multiply)           (None, 100, 256)     0           lstm_6[0][0]                     \n",
            "                                                                 permute_1[0][0]                  \n",
            "__________________________________________________________________________________________________\n",
            "lambda_1 (Lambda)               (None, 256)          0           multiply_1[0][0]                 \n",
            "__________________________________________________________________________________________________\n",
            "dense_4 (Dense)                 (None, 3)            771         lambda_1[0][0]                   \n",
            "==================================================================================================\n",
            "Total params: 2,857,908\n",
            "Trainable params: 891,908\n",
            "Non-trainable params: 1,966,000\n",
            "__________________________________________________________________________________________________\n",
            "None\n",
            "model saved\n",
            "model loaded\n",
            "Accuracy: 59.14%\n"
          ]
        }
      ]
    },
    {
      "cell_type": "markdown",
      "metadata": {
        "id": "IB9XmmysO2ri"
      },
      "source": [
        "#### 7.4 LSTM with attention, supplied with extra feature related articles\n"
      ]
    },
    {
      "cell_type": "code",
      "metadata": {
        "id": "kjKe1H61O2rk",
        "outputId": "9ee39f0a-8145-490d-9a79-e2ac3c13a9c0"
      },
      "source": [
        "_input = Input(shape=[MAX_LEN_CLAIM], dtype='int32')\n",
        "embedded = Embedding(input_dim=len(word_index)+1, output_dim=EMBEDDING_SIZE,  weights=[embedding_matrix], input_length=MAX_LEN_CLAIM, trainable=False)(_input)\n",
        "model_LSTM = LSTM(unit_size, return_sequences=True)(embedded)\n",
        "model_LSTM = LSTM(unit_size, return_sequences=True)(model_LSTM)\n",
        "\n",
        "model_attention = TimeDistributed(Dense(1, activation='tanh'))(model_LSTM)\n",
        "model_attention = Flatten()(model_attention)\n",
        "model_attention = Activation('softmax')(model_attention)\n",
        "model_attention = RepeatVector(unit_size)(model_attention)\n",
        "model_attention = Permute([2, 1])(model_attention)\n",
        "\n",
        "merged = Multiply()([model_LSTM, model_attention])\n",
        "merged = Lambda(lambda xin: K.sum(xin, axis=1))(merged)\n",
        "distributions = Dense(3, activation='softmax')(merged)\n",
        "\n",
        "_input_art = Input(shape=[MAX_LEN_ART], dtype='int32')\n",
        "embedded_art = Embedding(input_dim=len(word_index)+1, output_dim=EMBEDDING_SIZE,  weights=[embedding_matrix], input_length=MAX_LEN_ART, trainable=False)(_input_art)\n",
        "model_LSTM_art = LSTM(unit_size, return_sequences=True)(embedded_art)\n",
        "model_LSTM_art = LSTM(unit_size, return_sequences=True)(model_LSTM_art)\n",
        "\n",
        "model_attention_art = TimeDistributed(Dense(1, activation='tanh'))(model_LSTM_art)\n",
        "model_attention_art = Flatten()(model_attention_art)\n",
        "model_attention_art = Activation('softmax')(model_attention_art)\n",
        "model_attention_art = RepeatVector(unit_size)(model_attention_art)\n",
        "model_attention_art = Permute([2, 1])(model_attention_art)\n",
        "\n",
        "merged_art = Multiply()([model_LSTM_art, model_attention_art])\n",
        "merged_art = Lambda(lambda xin: K.sum(xin, axis=1))(merged_art)\n",
        "distributions_art = Dense(3, activation='softmax')(merged_art)\n",
        "\n",
        "merged_distribution = Average()([distributions, distributions_art])\n",
        "\n",
        "model = Model(inputs=[_input, _input_art], outputs=merged_distribution)\n",
        "model.compile(loss='categorical_crossentropy', optimizer='rmsprop', metrics=['accuracy'])\n",
        "\n",
        "model.fit([X_train_two_claim, X_train_two_art], Y_train_two, epochs=3, batch_size=64)\n",
        "print(model.summary())\n",
        "\n",
        "# save model\n",
        "model_json = model.to_json()\n",
        "with open(save_model_json_4, \"w+\") as json_file:\n",
        "    json_file.write(model_json)\n",
        "model.save_weights(save_model_weights_4)\n",
        "print(\"model saved\")\n",
        "\n",
        "# load model\n",
        "json_file = open(save_model_json_4, 'r')\n",
        "loaded_model_json = json_file.read()\n",
        "json_file.close()\n",
        "loaded_model = model_from_json(loaded_model_json)\n",
        "loaded_model.load_weights(save_model_weights_4)\n",
        "print(\"model loaded\")\n",
        "\n",
        "loaded_model.compile(loss='categorical_crossentropy', optimizer='rmsprop', metrics=['accuracy'])\n",
        "scores = loaded_model.evaluate([X_test_two_claim, X_test_two_art], Y_test_two, verbose=0)\n",
        "print(\"Accuracy: %.2f%%\" % (scores[1]*100))"
      ],
      "execution_count": null,
      "outputs": [
        {
          "name": "stdout",
          "output_type": "stream",
          "text": [
            "Epoch 1/3\n",
            "62053/62053 [==============================] - 3590s 58ms/step - loss: 0.8631 - acc: 0.5966\n",
            "Epoch 2/3\n",
            "62053/62053 [==============================] - 3580s 58ms/step - loss: 0.7560 - acc: 0.6766\n",
            "Epoch 3/3\n",
            "62053/62053 [==============================] - 3582s 58ms/step - loss: 0.6348 - acc: 0.7662\n",
            "__________________________________________________________________________________________________\n",
            "Layer (type)                    Output Shape         Param #     Connected to                     \n",
            "==================================================================================================\n",
            "input_2 (InputLayer)            (None, 100)          0                                            \n",
            "__________________________________________________________________________________________________\n",
            "input_3 (InputLayer)            (None, 1500)         0                                            \n",
            "__________________________________________________________________________________________________\n",
            "embedding_4 (Embedding)         (None, 100, 100)     1966000     input_2[0][0]                    \n",
            "__________________________________________________________________________________________________\n",
            "embedding_5 (Embedding)         (None, 1500, 100)    1966000     input_3[0][0]                    \n",
            "__________________________________________________________________________________________________\n",
            "lstm_7 (LSTM)                   (None, 100, 256)     365568      embedding_4[0][0]                \n",
            "__________________________________________________________________________________________________\n",
            "lstm_9 (LSTM)                   (None, 1500, 256)    365568      embedding_5[0][0]                \n",
            "__________________________________________________________________________________________________\n",
            "lstm_8 (LSTM)                   (None, 100, 256)     525312      lstm_7[0][0]                     \n",
            "__________________________________________________________________________________________________\n",
            "lstm_10 (LSTM)                  (None, 1500, 256)    525312      lstm_9[0][0]                     \n",
            "__________________________________________________________________________________________________\n",
            "time_distributed_2 (TimeDistrib (None, 100, 1)       257         lstm_8[0][0]                     \n",
            "__________________________________________________________________________________________________\n",
            "time_distributed_3 (TimeDistrib (None, 1500, 1)      257         lstm_10[0][0]                    \n",
            "__________________________________________________________________________________________________\n",
            "flatten_4 (Flatten)             (None, 100)          0           time_distributed_2[0][0]         \n",
            "__________________________________________________________________________________________________\n",
            "flatten_5 (Flatten)             (None, 1500)         0           time_distributed_3[0][0]         \n",
            "__________________________________________________________________________________________________\n",
            "activation_2 (Activation)       (None, 100)          0           flatten_4[0][0]                  \n",
            "__________________________________________________________________________________________________\n",
            "activation_3 (Activation)       (None, 1500)         0           flatten_5[0][0]                  \n",
            "__________________________________________________________________________________________________\n",
            "repeat_vector_2 (RepeatVector)  (None, 256, 100)     0           activation_2[0][0]               \n",
            "__________________________________________________________________________________________________\n",
            "repeat_vector_3 (RepeatVector)  (None, 256, 1500)    0           activation_3[0][0]               \n",
            "__________________________________________________________________________________________________\n",
            "permute_2 (Permute)             (None, 100, 256)     0           repeat_vector_2[0][0]            \n",
            "__________________________________________________________________________________________________\n",
            "permute_3 (Permute)             (None, 1500, 256)    0           repeat_vector_3[0][0]            \n",
            "__________________________________________________________________________________________________\n",
            "multiply_2 (Multiply)           (None, 100, 256)     0           lstm_8[0][0]                     \n",
            "                                                                 permute_2[0][0]                  \n",
            "__________________________________________________________________________________________________\n",
            "multiply_3 (Multiply)           (None, 1500, 256)    0           lstm_10[0][0]                    \n",
            "                                                                 permute_3[0][0]                  \n",
            "__________________________________________________________________________________________________\n",
            "lambda_2 (Lambda)               (None, 256)          0           multiply_2[0][0]                 \n",
            "__________________________________________________________________________________________________\n",
            "lambda_3 (Lambda)               (None, 256)          0           multiply_3[0][0]                 \n",
            "__________________________________________________________________________________________________\n",
            "dense_6 (Dense)                 (None, 3)            771         lambda_2[0][0]                   \n",
            "__________________________________________________________________________________________________\n",
            "dense_8 (Dense)                 (None, 3)            771         lambda_3[0][0]                   \n",
            "__________________________________________________________________________________________________\n",
            "average_1 (Average)             (None, 3)            0           dense_6[0][0]                    \n",
            "                                                                 dense_8[0][0]                    \n",
            "==================================================================================================\n",
            "Total params: 5,715,816\n",
            "Trainable params: 1,783,816\n",
            "Non-trainable params: 3,932,000\n",
            "__________________________________________________________________________________________________\n",
            "None\n",
            "model saved\n",
            "model loaded\n",
            "Accuracy: 57.13%\n"
          ]
        }
      ]
    },
    {
      "cell_type": "markdown",
      "metadata": {
        "id": "Hw1V4ZtGCab2"
      },
      "source": [
        "It has been noticed that the bidirectional LSTM structure does not improve model accuracy. However, the attention model noticeably enhances the performance."
      ]
    },
    {
      "cell_type": "markdown",
      "metadata": {
        "id": "Iigd8nHguRcK"
      },
      "source": [
        "### 8 Model Implementations (CNN)"
      ]
    },
    {
      "cell_type": "markdown",
      "metadata": {
        "id": "-mZeLt9tufXX"
      },
      "source": [
        "#### 8.1 Feature Generation"
      ]
    },
    {
      "cell_type": "code",
      "metadata": {
        "id": "2a-Eb02yuj_j"
      },
      "source": [
        "# split training data and labels\n",
        "def load_data_and_labels():\n",
        "    # Load data from json\n",
        "    json_folder = './train.json'\n",
        "    with open(json_folder) as json_file:\n",
        "        df = (pd.DataFrame(json.load(json_file))).reset_index()\n",
        "        df['claim_splitted'] = df.claim.apply(word_split)\n",
        "\n",
        "    # define training data and labels\n",
        "    claim_list = list(df['claim_splitted'].values)\n",
        "    claimant_list = df['claimant'].values\n",
        "    related_list = df['related_articles'].values\n",
        "    id_list = list(df['id'].values)\n",
        "    labels_list = list(df['label'].values)\n",
        "\n",
        "    x_text = claim_list\n",
        "    labels = [[1, 0, 0], [0, 1, 0], [0, 0, 1]]\n",
        "    y = []\n",
        "    for i in range(len(labels_list)) :\n",
        "        y.append(labels[labels_list[i]])\n",
        "    return x_text, y\n",
        "\n",
        "# build the vocaulary mapping for the embedded layer\n",
        "def build_vocab(sentences):\n",
        "    \"\"\"\n",
        "    Builds a vocabulary mapping from word to index based on the sentences.\n",
        "    Returns vocabulary mapping and inverse vocabulary mapping.\n",
        "    \"\"\"\n",
        "    # Build vocabulary\n",
        "    word_counts = Counter(itertools.chain(*sentences))\n",
        "    # Mapping from index to word\n",
        "    vocabulary_inv = [x[0] for x in word_counts.most_common()]\n",
        "    # Mapping from word to index\n",
        "    vocabulary = {x: i for i, x in enumerate(vocabulary_inv)}\n",
        "    return vocabulary, vocabulary_inv\n",
        "\n",
        "# set the final training data and labels\n",
        "def build_input_data(sentences, labels, vocabulary):\n",
        "    \"\"\"\n",
        "    Maps sentencs and labels to vectors based on a vocabulary.\n",
        "    \"\"\"\n",
        "    x = np.array([[vocabulary[word] for word in sentence] for sentence in sentences])\n",
        "    y = np.array(labels)\n",
        "    return x, y\n",
        "\n",
        "# sentence padding\n",
        "def pad_sentences(sentences, padding_word=\"<PAD/>\"):\n",
        "    \"\"\"\n",
        "    Pads all sentences to the same length. The length is defined by the longest sentence.\n",
        "    Returns padded sentences.\n",
        "    \"\"\"\n",
        "    sequence_length = max(len(x) for x in sentences)\n",
        "    padded_sentences = []\n",
        "    for i in range(len(sentences)):\n",
        "        sentence = sentences[i]\n",
        "        num_padding = sequence_length - len(sentence)\n",
        "        new_sentence = sentence + [padding_word] * num_padding\n",
        "        padded_sentences.append(new_sentence)\n",
        "    return padded_sentences\n",
        "\n",
        "# load data\n",
        "def load_data():\n",
        "    \"\"\"\n",
        "    Loads and preprocessed data for the MR dataset.\n",
        "    Returns input vectors, labels, vocabulary, and inverse vocabulary.\n",
        "    \"\"\"\n",
        "    # Load and preprocess data\n",
        "    sentences, labels = load_data_and_labels()\n",
        "    sentences_padded = pad_sentences(sentences)\n",
        "    vocabulary, vocabulary_inv_list = build_vocab(sentences_padded)\n",
        "    x, y = build_input_data(sentences_padded, labels, vocabulary)\n",
        "    vocabulary_inv = {key: value for key, value in enumerate(vocabulary_inv_list)}\n",
        "\n",
        "    # Shuffle data\n",
        "    shuffle_indices = np.random.permutation(np.arange(len(y)))\n",
        "    x = x[shuffle_indices]\n",
        "    y = y[shuffle_indices]\n",
        "    train_len = int(len(x) * 0.9)\n",
        "    x_train = x[:train_len]\n",
        "    y_train = y[:train_len]\n",
        "    x_test = x[train_len:]\n",
        "    y_test = y[train_len:]\n",
        "\n",
        "    return x_train, y_train, x_test, y_test, vocabulary_inv"
      ],
      "execution_count": null,
      "outputs": []
    },
    {
      "cell_type": "code",
      "metadata": {
        "colab": {
          "base_uri": "https://localhost:8080/",
          "height": 84
        },
        "id": "kPl3qncFvEv3",
        "outputId": "5090d6b5-2787-4e9c-892e-404c5daba9ef"
      },
      "source": [
        "print(\"Load data...\")\n",
        "x_train, y_train, x_test, y_test, vocabulary_inv = load_data()\n",
        "\n",
        "# truncate the over-padded training samples due to the matrix size\n",
        "# shrinkage after word2vec\n",
        "x_train = x_train[:,:MAX_LEN_CLAIM]\n",
        "x_test = x_test[:,:MAX_LEN_CLAIM]\n",
        "\n",
        "print(\"x_train shape:\", x_train.shape)\n",
        "print(\"x_test shape:\", x_test.shape)\n",
        "print(\"Vocabulary Size: {:d}\".format(len(vocabulary_inv)))"
      ],
      "execution_count": null,
      "outputs": [
        {
          "name": "stdout",
          "output_type": "stream",
          "text": [
            "Load data...\n",
            "x_train shape: (13999, 100)\n",
            "x_test shape: (1556, 100)\n",
            "Vocabulary Size: 24096\n"
          ]
        }
      ]
    },
    {
      "cell_type": "markdown",
      "metadata": {
        "id": "HTx9bSB0vHa0"
      },
      "source": [
        "#### 8.2 Training the embedding layer"
      ]
    },
    {
      "cell_type": "markdown",
      "metadata": {
        "id": "oIHCR0o-vNrN"
      },
      "source": [
        "I used a model online to train words into vectors. The weights will be used as the initialization weights of the embedding vector.\n",
        "\n",
        "This function could be found at https://github.com/alexander-rakhlin/CNN-for-Sentence-Classification-in-Keras/blob/master/w2v.py"
      ]
    },
    {
      "cell_type": "code",
      "metadata": {
        "id": "NM0p7fo9veuC"
      },
      "source": [
        "def train_word2vec(sentence_matrix, vocabulary_inv,\n",
        "                   num_features=300, min_word_count=1, context=10):\n",
        "    \"\"\"\n",
        "    Trains, saves, loads Word2Vec model\n",
        "    Returns initial weights for embedding layer.\n",
        "\n",
        "    inputs:\n",
        "    sentence_matrix # int matrix: num_sentences x max_sentence_len\n",
        "    vocabulary_inv  # dict {int: str}\n",
        "    num_features    # Word vector dimensionality\n",
        "    min_word_count  # Minimum word count\n",
        "    context         # Context window size\n",
        "    \"\"\"\n",
        "    model_dir = '.'\n",
        "    model_name = \"{:d}features_{:d}minwords_{:d}context\".format(num_features, min_word_count, context)\n",
        "    model_name = join(model_dir, model_name)\n",
        "    if exists(model_name):\n",
        "        embedding_model = word2vec.Word2Vec.load(model_name)\n",
        "        print('Load existing Word2Vec model \\'%s\\'' % split(model_name)[-1])\n",
        "    else:\n",
        "        # Set values for various parameters\n",
        "        num_workers = 2  # Number of threads to run in parallel\n",
        "        downsampling = 1e-3  # Downsample setting for frequent words\n",
        "\n",
        "        # Initialize and train the model\n",
        "        print('Training Word2Vec model...')\n",
        "        sentences = [[vocabulary_inv[w] for w in s] for s in sentence_matrix]\n",
        "        embedding_model = word2vec.Word2Vec(sentences, workers=num_workers,\n",
        "                  size=num_features, min_count=min_word_count,\n",
        "                  window=context, sample=downsampling)\n",
        "\n",
        "        # If we don't plan to train the model any further, calling\n",
        "        # init_sims will make the model much more memory-efficient.\n",
        "        embedding_model.init_sims(replace=True)\n",
        "\n",
        "        # Saving the model for later use. You can load it later using Word2Vec.load()\n",
        "        if not exists(model_dir):\n",
        "            os.mkdir(model_dir)\n",
        "        print('Saving Word2Vec model \\'%s\\'' % split(model_name)[-1])\n",
        "        embedding_model.save(model_name)\n",
        "\n",
        "    # add unknown words\n",
        "    embedding_weights = {key: embedding_model[word] if word in embedding_model else\n",
        "                              np.random.uniform(-0.25, 0.25, embedding_model.vector_size)\n",
        "                         for key, word in vocabulary_inv.items()}\n",
        "    return embedding_weights"
      ],
      "execution_count": null,
      "outputs": []
    },
    {
      "cell_type": "markdown",
      "metadata": {
        "id": "TZQGaaz_vpKf"
      },
      "source": [
        "#### 8.3 Model Building"
      ]
    },
    {
      "cell_type": "code",
      "metadata": {
        "id": "FIc_vv18vroc"
      },
      "source": [
        "# Build model\n",
        "input_shape = (MAX_LEN_CLAIM,)\n",
        "model_input = Input(shape=input_shape)\n",
        "\n",
        "z = Embedding(len(vocabulary_inv), embedding_dim, input_length=MAX_LEN_CLAIM, name=\"embedding\")(model_input)\n",
        "\n",
        "z = Dropout(dropout_prob[0])(z)\n",
        "\n",
        "# Convolutional block\n",
        "conv_blocks = []\n",
        "for sz in filter_sizes:\n",
        "    conv = Convolution1D(filters=num_filters,\n",
        "                         kernel_size=sz,\n",
        "                         padding=\"valid\",\n",
        "                         activation=\"relu\",\n",
        "                         strides=1)(z)\n",
        "    conv = MaxPooling1D(pool_size=2)(conv)\n",
        "    conv = Flatten()(conv)\n",
        "    conv_blocks.append(conv)\n",
        "\n",
        "z = Concatenate()(conv_blocks) if len(conv_blocks) > 1 else conv_blocks[0]\n",
        "\n",
        "z = Dropout(dropout_prob[1])(z)\n",
        "z = Dense(hidden_dims, activation=\"relu\")(z)\n",
        "model_output = Dense(output_dims, activation=\"softmax\")(z)"
      ],
      "execution_count": null,
      "outputs": []
    },
    {
      "cell_type": "markdown",
      "metadata": {
        "id": "OR5kQvUbxDTV"
      },
      "source": [
        "#### 8.4 Model Training"
      ]
    },
    {
      "cell_type": "code",
      "metadata": {
        "colab": {
          "base_uri": "https://localhost:8080/",
          "height": 322
        },
        "id": "yiPg7PpoxFOf",
        "outputId": "1b7a7db6-54a8-489e-dee1-846a4f167f0a"
      },
      "source": [
        "# Prepare embedding layer weights\n",
        "\n",
        "embedding_weights = train_word2vec(np.vstack((x_train, x_test)), vocabulary_inv, num_features=embedding_dim,\n",
        "                    min_word_count=min_word_count, context=context)\n",
        "\n",
        "model = Model(model_input, model_output)\n",
        "model.compile(loss=\"categorical_crossentropy\", optimizer=\"adam\", metrics=[\"accuracy\"])\n",
        "\n",
        "# Save model for future use\n",
        "model_json = model.to_json()\n",
        "with open(\"model.json\", \"w\") as json_file:\n",
        "    json_file.write(model_json)\n",
        "\n",
        "# Initialize weights with word2vec\n",
        "weights = np.array([v for v in embedding_weights.values()])\n",
        "print(\"Initializing embedding layer with word2vec weights, shape\", weights.shape)\n",
        "embedding_layer = model.get_layer(\"embedding\")\n",
        "embedding_layer.set_weights([weights])\n",
        "\n",
        "# Train the model\n",
        "model.fit(x_train, y_train, batch_size=batch_size, epochs=num_epochs,\n",
        "          validation_data=(x_test, y_test), verbose=2)\n",
        "\n",
        "# Save model weights for future use\n",
        "model.save('cnn_acc.h5')"
      ],
      "execution_count": null,
      "outputs": [
        {
          "name": "stderr",
          "output_type": "stream",
          "text": [
            "/usr/local/lib/python3.6/dist-packages/smart_open/smart_open_lib.py:402: UserWarning: This function is deprecated, use smart_open.open instead. See the migration notes for details: https://github.com/RaRe-Technologies/smart_open/blob/master/README.rst#migrating-to-the-new-open-function\n",
            "  'See the migration notes for details: %s' % _MIGRATION_NOTES_URL\n",
            "/usr/local/lib/python3.6/dist-packages/ipykernel_launcher.py:45: DeprecationWarning: Call to deprecated `__contains__` (Method will be removed in 4.0.0, use self.wv.__contains__() instead).\n",
            "/usr/local/lib/python3.6/dist-packages/ipykernel_launcher.py:45: DeprecationWarning: Call to deprecated `__getitem__` (Method will be removed in 4.0.0, use self.wv.__getitem__() instead).\n"
          ]
        },
        {
          "name": "stdout",
          "output_type": "stream",
          "text": [
            "Load existing Word2Vec model '50features_1minwords_10context'\n",
            "Initializing embedding layer with word2vec weights, shape (24096, 50)\n",
            "Train on 13999 samples, validate on 1556 samples\n",
            "Epoch 1/5\n",
            " - 11s - loss: 0.9363 - acc: 0.5355 - val_loss: 0.9125 - val_acc: 0.6022\n",
            "Epoch 2/5\n",
            " - 10s - loss: 0.8855 - acc: 0.5980 - val_loss: 0.8897 - val_acc: 0.6157\n",
            "Epoch 3/5\n",
            " - 10s - loss: 0.8364 - acc: 0.6340 - val_loss: 0.8681 - val_acc: 0.6247\n",
            "Epoch 4/5\n",
            " - 10s - loss: 0.7703 - acc: 0.6733 - val_loss: 0.8535 - val_acc: 0.6228\n",
            "Epoch 5/5\n",
            " - 10s - loss: 0.6946 - acc: 0.7140 - val_loss: 0.8867 - val_acc: 0.6067\n"
          ]
        }
      ]
    },
    {
      "cell_type": "markdown",
      "metadata": {
        "id": "SzlhYZ1DB6W4"
      },
      "source": [
        "We observed a validation accuracy of 60.67% after 5 epochs. We noticed that our CNN model would not classify any news as \"True news\". This might caused by the lack of \"True news\" samlples in the provided dataset, making related information hard to survive when passing the convolutional layer."
      ]
    },
    {
      "cell_type": "markdown",
      "metadata": {
        "id": "Xqgj6mewO2rn"
      },
      "source": [
        "### 9 Discussions"
      ]
    },
    {
      "cell_type": "markdown",
      "metadata": {
        "id": "9AtjbfpJO2rp"
      },
      "source": [
        "From the previous section, it has been noticed that the bidirectional LSTM structure does not improve model accuracy. However, the attention model noticeably enhances the performance."
      ]
    },
    {
      "cell_type": "markdown",
      "metadata": {
        "id": "86_uoiZMB0OP"
      },
      "source": [
        "In sum, we have implemented in total three different models for this specific project: 1) Naive Bayes 2) RNN and 3) CNN, where we have used the Naive Bayes model with Bag of Words vectorization as a benchmark of our implementation. Our NB model has a training accuracy of almost 75%, however the testing accuracy is just over 57%, revealing large variance. In our RNN realization, we have compared between four different LSTM models and found that the LSTM with attention model performs best on the testing data set, having an accuracy of almost 60%. We have also adopted pre-trained glove word embedding matrices in our model construction. Finally, we investigated upon a novel CNN approach with word embeddings. The model acted fair during training and has an 60% validation accuracy. Nevertheless, the model does not have the ability to label True News thus its perfomance on a larger data set might be worse. Compared with out NB benchmark, both the RNN and CNN model behave better and after evaluation we have decided to use the RNN (with attention) model in our final submission."
      ]
    },
    {
      "cell_type": "markdown",
      "metadata": {
        "id": "q5eispiwCrWZ"
      },
      "source": [
        "Thanks for the great course and happy holidays!"
      ]
    },
    {
      "cell_type": "code",
      "metadata": {
        "id": "paA6AK_gO2rv"
      },
      "source": [
        ""
      ],
      "execution_count": null,
      "outputs": []
    }
  ]
}